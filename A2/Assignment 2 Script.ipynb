{
  "nbformat": 4,
  "nbformat_minor": 0,
  "metadata": {
    "colab": {
      "provenance": [],
      "machine_shape": "hm",
      "gpuType": "T4"
    },
    "kernelspec": {
      "name": "python3",
      "display_name": "Python 3"
    },
    "language_info": {
      "name": "python"
    },
    "accelerator": "GPU"
  },
  "cells": [
    {
      "cell_type": "markdown",
      "source": [
        "# Assignment 2 2024"
      ],
      "metadata": {
        "id": "EtlT7ZL5J8h2"
      }
    },
    {
      "cell_type": "markdown",
      "source": [
        "In the first section of this assignment, your task is to perform a sentiment analysis task on the Twitter dataset, train.csv, provided using the BERT model. Your job is to answer each question carrying a particular mark. The BERT model can be imported from the huggingface library. Your codes have to be executable in Google Colab. The dataset contains around 32K tweets which are labeled based on having racist or sexist content.  "
      ],
      "metadata": {
        "id": "jxxflyckKKAM"
      }
    },
    {
      "cell_type": "markdown",
      "source": [
        "### Mount your google drive and and change your path"
      ],
      "metadata": {
        "id": "333zkvSRLUL0"
      }
    },
    {
      "cell_type": "code",
      "execution_count": 1,
      "metadata": {
        "id": "f1ZSag1KJ7w8",
        "colab": {
          "base_uri": "https://localhost:8080/"
        },
        "outputId": "c64f2d8f-f9cf-48cc-9e6c-e6c1a8cbb887"
      },
      "outputs": [
        {
          "output_type": "stream",
          "name": "stdout",
          "text": [
            "Mounted at /content/drive\n"
          ]
        }
      ],
      "source": [
        "from google.colab import drive\n",
        "drive.mount('/content/drive')"
      ]
    },
    {
      "cell_type": "code",
      "source": [
        "import os\n",
        "os.chdir('/content/drive/MyDrive/MachineLearning/Assignment 2')"
      ],
      "metadata": {
        "id": "QdByOLFeLThW"
      },
      "execution_count": 2,
      "outputs": []
    },
    {
      "cell_type": "markdown",
      "source": [
        "### Install the huggingface module"
      ],
      "metadata": {
        "id": "2FGR09J8L7cU"
      }
    },
    {
      "cell_type": "code",
      "source": [
        "!pip install transformers"
      ],
      "metadata": {
        "id": "_YB9ja9NMIpc",
        "colab": {
          "base_uri": "https://localhost:8080/"
        },
        "outputId": "e08bb17f-70ab-45b0-c3fe-eb5af2e220e1"
      },
      "execution_count": 3,
      "outputs": [
        {
          "output_type": "stream",
          "name": "stdout",
          "text": [
            "Requirement already satisfied: transformers in /usr/local/lib/python3.10/dist-packages (4.44.2)\n",
            "Requirement already satisfied: filelock in /usr/local/lib/python3.10/dist-packages (from transformers) (3.16.1)\n",
            "Requirement already satisfied: huggingface-hub<1.0,>=0.23.2 in /usr/local/lib/python3.10/dist-packages (from transformers) (0.24.7)\n",
            "Requirement already satisfied: numpy>=1.17 in /usr/local/lib/python3.10/dist-packages (from transformers) (1.26.4)\n",
            "Requirement already satisfied: packaging>=20.0 in /usr/local/lib/python3.10/dist-packages (from transformers) (24.1)\n",
            "Requirement already satisfied: pyyaml>=5.1 in /usr/local/lib/python3.10/dist-packages (from transformers) (6.0.2)\n",
            "Requirement already satisfied: regex!=2019.12.17 in /usr/local/lib/python3.10/dist-packages (from transformers) (2024.9.11)\n",
            "Requirement already satisfied: requests in /usr/local/lib/python3.10/dist-packages (from transformers) (2.32.3)\n",
            "Requirement already satisfied: safetensors>=0.4.1 in /usr/local/lib/python3.10/dist-packages (from transformers) (0.4.5)\n",
            "Requirement already satisfied: tokenizers<0.20,>=0.19 in /usr/local/lib/python3.10/dist-packages (from transformers) (0.19.1)\n",
            "Requirement already satisfied: tqdm>=4.27 in /usr/local/lib/python3.10/dist-packages (from transformers) (4.66.5)\n",
            "Requirement already satisfied: fsspec>=2023.5.0 in /usr/local/lib/python3.10/dist-packages (from huggingface-hub<1.0,>=0.23.2->transformers) (2024.6.1)\n",
            "Requirement already satisfied: typing-extensions>=3.7.4.3 in /usr/local/lib/python3.10/dist-packages (from huggingface-hub<1.0,>=0.23.2->transformers) (4.12.2)\n",
            "Requirement already satisfied: charset-normalizer<4,>=2 in /usr/local/lib/python3.10/dist-packages (from requests->transformers) (3.4.0)\n",
            "Requirement already satisfied: idna<4,>=2.5 in /usr/local/lib/python3.10/dist-packages (from requests->transformers) (3.10)\n",
            "Requirement already satisfied: urllib3<3,>=1.21.1 in /usr/local/lib/python3.10/dist-packages (from requests->transformers) (2.2.3)\n",
            "Requirement already satisfied: certifi>=2017.4.17 in /usr/local/lib/python3.10/dist-packages (from requests->transformers) (2024.8.30)\n"
          ]
        }
      ]
    },
    {
      "cell_type": "markdown",
      "source": [
        "### Install the preprocessing text"
      ],
      "metadata": {
        "id": "9f90Wg1jMozk"
      }
    },
    {
      "cell_type": "code",
      "source": [
        "!pip install keras-preprocessing"
      ],
      "metadata": {
        "id": "xwlyvkT7MtQb",
        "colab": {
          "base_uri": "https://localhost:8080/"
        },
        "outputId": "3638aaed-6d64-4c07-9a1d-aa200b9e3239"
      },
      "execution_count": 4,
      "outputs": [
        {
          "output_type": "stream",
          "name": "stdout",
          "text": [
            "Collecting keras-preprocessing\n",
            "  Downloading Keras_Preprocessing-1.1.2-py2.py3-none-any.whl.metadata (1.9 kB)\n",
            "Requirement already satisfied: numpy>=1.9.1 in /usr/local/lib/python3.10/dist-packages (from keras-preprocessing) (1.26.4)\n",
            "Requirement already satisfied: six>=1.9.0 in /usr/local/lib/python3.10/dist-packages (from keras-preprocessing) (1.16.0)\n",
            "Downloading Keras_Preprocessing-1.1.2-py2.py3-none-any.whl (42 kB)\n",
            "\u001b[?25l   \u001b[90m━━━━━━━━━━━━━━━━━━━━━━━━━━━━━━━━━━━━━━━━\u001b[0m \u001b[32m0.0/42.6 kB\u001b[0m \u001b[31m?\u001b[0m eta \u001b[36m-:--:--\u001b[0m\r\u001b[2K   \u001b[90m━━━━━━━━━━━━━━━━━━━━━━━━━━━━━━━━━━━━━━━━\u001b[0m \u001b[32m42.6/42.6 kB\u001b[0m \u001b[31m2.2 MB/s\u001b[0m eta \u001b[36m0:00:00\u001b[0m\n",
            "\u001b[?25hInstalling collected packages: keras-preprocessing\n",
            "Successfully installed keras-preprocessing-1.1.2\n"
          ]
        }
      ]
    },
    {
      "cell_type": "markdown",
      "source": [
        "### 1. Import all relevant modules here [5 marks]."
      ],
      "metadata": {
        "id": "oCef_6XqLna9"
      }
    },
    {
      "cell_type": "markdown",
      "source": [
        "##### place all relevant libraries into the following cell"
      ],
      "metadata": {
        "id": "2G7b9UIlwkOY"
      }
    },
    {
      "cell_type": "code",
      "source": [
        "import tensorflow as tf\n",
        "from keras_preprocessing.sequence import pad_sequences\n",
        "from sklearn.model_selection import train_test_split\n",
        "from transformers import BertTokenizer\n",
        "from transformers import TFBertModel, TFBertForSequenceClassification\n",
        "from tqdm import tqdm, trange\n",
        "import pandas as pd\n",
        "import io\n",
        "import numpy as np\n",
        "import re"
      ],
      "metadata": {
        "id": "6wgks8TPwr1Q"
      },
      "execution_count": 7,
      "outputs": []
    },
    {
      "cell_type": "markdown",
      "source": [
        "### 2. Load your dataset and show the first five rows of the dataset [5 marks].\n",
        "\n",
        "\n"
      ],
      "metadata": {
        "id": "nLyP7-PBNiUU"
      }
    },
    {
      "cell_type": "markdown",
      "source": [
        "##### you need to use Pandas in order to load the dataset"
      ],
      "metadata": {
        "id": "EtFcWCGywxUw"
      }
    },
    {
      "cell_type": "code",
      "source": [
        "df = pd.read_csv(\"train.csv\", encoding=\"latin-1\")\n",
        "\n",
        "df.head()"
      ],
      "metadata": {
        "id": "0Ns5ngIJw5Ow",
        "outputId": "21114c34-7f25-46c8-8e79-32621ee7e7a1",
        "colab": {
          "base_uri": "https://localhost:8080/",
          "height": 206
        }
      },
      "execution_count": 9,
      "outputs": [
        {
          "output_type": "execute_result",
          "data": {
            "text/plain": [
              "   id  label                                              tweet\n",
              "0   1      0   @user when a father is dysfunctional and is s...\n",
              "1   2      0  @user @user thanks for #lyft credit i can't us...\n",
              "2   3      0                                bihday your majesty\n",
              "3   4      0  #model   i love u take with u all the time in ...\n",
              "4   5      0             factsguide: society now    #motivation"
            ],
            "text/html": [
              "\n",
              "  <div id=\"df-90be864a-2993-40ff-9c57-28c9d60e12ec\" class=\"colab-df-container\">\n",
              "    <div>\n",
              "<style scoped>\n",
              "    .dataframe tbody tr th:only-of-type {\n",
              "        vertical-align: middle;\n",
              "    }\n",
              "\n",
              "    .dataframe tbody tr th {\n",
              "        vertical-align: top;\n",
              "    }\n",
              "\n",
              "    .dataframe thead th {\n",
              "        text-align: right;\n",
              "    }\n",
              "</style>\n",
              "<table border=\"1\" class=\"dataframe\">\n",
              "  <thead>\n",
              "    <tr style=\"text-align: right;\">\n",
              "      <th></th>\n",
              "      <th>id</th>\n",
              "      <th>label</th>\n",
              "      <th>tweet</th>\n",
              "    </tr>\n",
              "  </thead>\n",
              "  <tbody>\n",
              "    <tr>\n",
              "      <th>0</th>\n",
              "      <td>1</td>\n",
              "      <td>0</td>\n",
              "      <td>@user when a father is dysfunctional and is s...</td>\n",
              "    </tr>\n",
              "    <tr>\n",
              "      <th>1</th>\n",
              "      <td>2</td>\n",
              "      <td>0</td>\n",
              "      <td>@user @user thanks for #lyft credit i can't us...</td>\n",
              "    </tr>\n",
              "    <tr>\n",
              "      <th>2</th>\n",
              "      <td>3</td>\n",
              "      <td>0</td>\n",
              "      <td>bihday your majesty</td>\n",
              "    </tr>\n",
              "    <tr>\n",
              "      <th>3</th>\n",
              "      <td>4</td>\n",
              "      <td>0</td>\n",
              "      <td>#model   i love u take with u all the time in ...</td>\n",
              "    </tr>\n",
              "    <tr>\n",
              "      <th>4</th>\n",
              "      <td>5</td>\n",
              "      <td>0</td>\n",
              "      <td>factsguide: society now    #motivation</td>\n",
              "    </tr>\n",
              "  </tbody>\n",
              "</table>\n",
              "</div>\n",
              "    <div class=\"colab-df-buttons\">\n",
              "\n",
              "  <div class=\"colab-df-container\">\n",
              "    <button class=\"colab-df-convert\" onclick=\"convertToInteractive('df-90be864a-2993-40ff-9c57-28c9d60e12ec')\"\n",
              "            title=\"Convert this dataframe to an interactive table.\"\n",
              "            style=\"display:none;\">\n",
              "\n",
              "  <svg xmlns=\"http://www.w3.org/2000/svg\" height=\"24px\" viewBox=\"0 -960 960 960\">\n",
              "    <path d=\"M120-120v-720h720v720H120Zm60-500h600v-160H180v160Zm220 220h160v-160H400v160Zm0 220h160v-160H400v160ZM180-400h160v-160H180v160Zm440 0h160v-160H620v160ZM180-180h160v-160H180v160Zm440 0h160v-160H620v160Z\"/>\n",
              "  </svg>\n",
              "    </button>\n",
              "\n",
              "  <style>\n",
              "    .colab-df-container {\n",
              "      display:flex;\n",
              "      gap: 12px;\n",
              "    }\n",
              "\n",
              "    .colab-df-convert {\n",
              "      background-color: #E8F0FE;\n",
              "      border: none;\n",
              "      border-radius: 50%;\n",
              "      cursor: pointer;\n",
              "      display: none;\n",
              "      fill: #1967D2;\n",
              "      height: 32px;\n",
              "      padding: 0 0 0 0;\n",
              "      width: 32px;\n",
              "    }\n",
              "\n",
              "    .colab-df-convert:hover {\n",
              "      background-color: #E2EBFA;\n",
              "      box-shadow: 0px 1px 2px rgba(60, 64, 67, 0.3), 0px 1px 3px 1px rgba(60, 64, 67, 0.15);\n",
              "      fill: #174EA6;\n",
              "    }\n",
              "\n",
              "    .colab-df-buttons div {\n",
              "      margin-bottom: 4px;\n",
              "    }\n",
              "\n",
              "    [theme=dark] .colab-df-convert {\n",
              "      background-color: #3B4455;\n",
              "      fill: #D2E3FC;\n",
              "    }\n",
              "\n",
              "    [theme=dark] .colab-df-convert:hover {\n",
              "      background-color: #434B5C;\n",
              "      box-shadow: 0px 1px 3px 1px rgba(0, 0, 0, 0.15);\n",
              "      filter: drop-shadow(0px 1px 2px rgba(0, 0, 0, 0.3));\n",
              "      fill: #FFFFFF;\n",
              "    }\n",
              "  </style>\n",
              "\n",
              "    <script>\n",
              "      const buttonEl =\n",
              "        document.querySelector('#df-90be864a-2993-40ff-9c57-28c9d60e12ec button.colab-df-convert');\n",
              "      buttonEl.style.display =\n",
              "        google.colab.kernel.accessAllowed ? 'block' : 'none';\n",
              "\n",
              "      async function convertToInteractive(key) {\n",
              "        const element = document.querySelector('#df-90be864a-2993-40ff-9c57-28c9d60e12ec');\n",
              "        const dataTable =\n",
              "          await google.colab.kernel.invokeFunction('convertToInteractive',\n",
              "                                                    [key], {});\n",
              "        if (!dataTable) return;\n",
              "\n",
              "        const docLinkHtml = 'Like what you see? Visit the ' +\n",
              "          '<a target=\"_blank\" href=https://colab.research.google.com/notebooks/data_table.ipynb>data table notebook</a>'\n",
              "          + ' to learn more about interactive tables.';\n",
              "        element.innerHTML = '';\n",
              "        dataTable['output_type'] = 'display_data';\n",
              "        await google.colab.output.renderOutput(dataTable, element);\n",
              "        const docLink = document.createElement('div');\n",
              "        docLink.innerHTML = docLinkHtml;\n",
              "        element.appendChild(docLink);\n",
              "      }\n",
              "    </script>\n",
              "  </div>\n",
              "\n",
              "\n",
              "<div id=\"df-e7481301-eb5a-4868-8c95-fc1399f7969d\">\n",
              "  <button class=\"colab-df-quickchart\" onclick=\"quickchart('df-e7481301-eb5a-4868-8c95-fc1399f7969d')\"\n",
              "            title=\"Suggest charts\"\n",
              "            style=\"display:none;\">\n",
              "\n",
              "<svg xmlns=\"http://www.w3.org/2000/svg\" height=\"24px\"viewBox=\"0 0 24 24\"\n",
              "     width=\"24px\">\n",
              "    <g>\n",
              "        <path d=\"M19 3H5c-1.1 0-2 .9-2 2v14c0 1.1.9 2 2 2h14c1.1 0 2-.9 2-2V5c0-1.1-.9-2-2-2zM9 17H7v-7h2v7zm4 0h-2V7h2v10zm4 0h-2v-4h2v4z\"/>\n",
              "    </g>\n",
              "</svg>\n",
              "  </button>\n",
              "\n",
              "<style>\n",
              "  .colab-df-quickchart {\n",
              "      --bg-color: #E8F0FE;\n",
              "      --fill-color: #1967D2;\n",
              "      --hover-bg-color: #E2EBFA;\n",
              "      --hover-fill-color: #174EA6;\n",
              "      --disabled-fill-color: #AAA;\n",
              "      --disabled-bg-color: #DDD;\n",
              "  }\n",
              "\n",
              "  [theme=dark] .colab-df-quickchart {\n",
              "      --bg-color: #3B4455;\n",
              "      --fill-color: #D2E3FC;\n",
              "      --hover-bg-color: #434B5C;\n",
              "      --hover-fill-color: #FFFFFF;\n",
              "      --disabled-bg-color: #3B4455;\n",
              "      --disabled-fill-color: #666;\n",
              "  }\n",
              "\n",
              "  .colab-df-quickchart {\n",
              "    background-color: var(--bg-color);\n",
              "    border: none;\n",
              "    border-radius: 50%;\n",
              "    cursor: pointer;\n",
              "    display: none;\n",
              "    fill: var(--fill-color);\n",
              "    height: 32px;\n",
              "    padding: 0;\n",
              "    width: 32px;\n",
              "  }\n",
              "\n",
              "  .colab-df-quickchart:hover {\n",
              "    background-color: var(--hover-bg-color);\n",
              "    box-shadow: 0 1px 2px rgba(60, 64, 67, 0.3), 0 1px 3px 1px rgba(60, 64, 67, 0.15);\n",
              "    fill: var(--button-hover-fill-color);\n",
              "  }\n",
              "\n",
              "  .colab-df-quickchart-complete:disabled,\n",
              "  .colab-df-quickchart-complete:disabled:hover {\n",
              "    background-color: var(--disabled-bg-color);\n",
              "    fill: var(--disabled-fill-color);\n",
              "    box-shadow: none;\n",
              "  }\n",
              "\n",
              "  .colab-df-spinner {\n",
              "    border: 2px solid var(--fill-color);\n",
              "    border-color: transparent;\n",
              "    border-bottom-color: var(--fill-color);\n",
              "    animation:\n",
              "      spin 1s steps(1) infinite;\n",
              "  }\n",
              "\n",
              "  @keyframes spin {\n",
              "    0% {\n",
              "      border-color: transparent;\n",
              "      border-bottom-color: var(--fill-color);\n",
              "      border-left-color: var(--fill-color);\n",
              "    }\n",
              "    20% {\n",
              "      border-color: transparent;\n",
              "      border-left-color: var(--fill-color);\n",
              "      border-top-color: var(--fill-color);\n",
              "    }\n",
              "    30% {\n",
              "      border-color: transparent;\n",
              "      border-left-color: var(--fill-color);\n",
              "      border-top-color: var(--fill-color);\n",
              "      border-right-color: var(--fill-color);\n",
              "    }\n",
              "    40% {\n",
              "      border-color: transparent;\n",
              "      border-right-color: var(--fill-color);\n",
              "      border-top-color: var(--fill-color);\n",
              "    }\n",
              "    60% {\n",
              "      border-color: transparent;\n",
              "      border-right-color: var(--fill-color);\n",
              "    }\n",
              "    80% {\n",
              "      border-color: transparent;\n",
              "      border-right-color: var(--fill-color);\n",
              "      border-bottom-color: var(--fill-color);\n",
              "    }\n",
              "    90% {\n",
              "      border-color: transparent;\n",
              "      border-bottom-color: var(--fill-color);\n",
              "    }\n",
              "  }\n",
              "</style>\n",
              "\n",
              "  <script>\n",
              "    async function quickchart(key) {\n",
              "      const quickchartButtonEl =\n",
              "        document.querySelector('#' + key + ' button');\n",
              "      quickchartButtonEl.disabled = true;  // To prevent multiple clicks.\n",
              "      quickchartButtonEl.classList.add('colab-df-spinner');\n",
              "      try {\n",
              "        const charts = await google.colab.kernel.invokeFunction(\n",
              "            'suggestCharts', [key], {});\n",
              "      } catch (error) {\n",
              "        console.error('Error during call to suggestCharts:', error);\n",
              "      }\n",
              "      quickchartButtonEl.classList.remove('colab-df-spinner');\n",
              "      quickchartButtonEl.classList.add('colab-df-quickchart-complete');\n",
              "    }\n",
              "    (() => {\n",
              "      let quickchartButtonEl =\n",
              "        document.querySelector('#df-e7481301-eb5a-4868-8c95-fc1399f7969d button');\n",
              "      quickchartButtonEl.style.display =\n",
              "        google.colab.kernel.accessAllowed ? 'block' : 'none';\n",
              "    })();\n",
              "  </script>\n",
              "</div>\n",
              "\n",
              "    </div>\n",
              "  </div>\n"
            ],
            "application/vnd.google.colaboratory.intrinsic+json": {
              "type": "dataframe",
              "variable_name": "df",
              "summary": "{\n  \"name\": \"df\",\n  \"rows\": 31962,\n  \"fields\": [\n    {\n      \"column\": \"id\",\n      \"properties\": {\n        \"dtype\": \"number\",\n        \"std\": 9226,\n        \"min\": 1,\n        \"max\": 31962,\n        \"num_unique_values\": 31962,\n        \"samples\": [\n          12228,\n          14710,\n          19320\n        ],\n        \"semantic_type\": \"\",\n        \"description\": \"\"\n      }\n    },\n    {\n      \"column\": \"label\",\n      \"properties\": {\n        \"dtype\": \"number\",\n        \"std\": 0,\n        \"min\": 0,\n        \"max\": 1,\n        \"num_unique_values\": 2,\n        \"samples\": [\n          1,\n          0\n        ],\n        \"semantic_type\": \"\",\n        \"description\": \"\"\n      }\n    },\n    {\n      \"column\": \"tweet\",\n      \"properties\": {\n        \"dtype\": \"string\",\n        \"num_unique_values\": 29530,\n        \"samples\": [\n          \"\\\"even if you like #windows 10, you should be   at #microsoft\\\" #computer #spam #spyware #unreliable #os #ms #win \",\n          \"the countdown begins! 10 hours till the musical! \\u00f0\\u009f\\u0098\\u008a\\u00f0\\u009f\\u0098\\u0084\\u00f0\\u009f\\u0098\\u0085 #itsthefinalcountdown #youngcarers #rctcbc #rctcouncil #rct #carersweek   \\u00f0\\u009f\\u0098\\u0081\"\n        ],\n        \"semantic_type\": \"\",\n        \"description\": \"\"\n      }\n    }\n  ]\n}"
            }
          },
          "metadata": {},
          "execution_count": 9
        }
      ]
    },
    {
      "cell_type": "markdown",
      "source": [
        "### 3. Given the following function to clean the raw text of your dataset, clean your dataset and show the first five rows of the clean dataset [5 marks]."
      ],
      "metadata": {
        "id": "7jGAWQJKNsyM"
      }
    },
    {
      "cell_type": "markdown",
      "source": [
        "##### apply the following function to clean your dataset."
      ],
      "metadata": {
        "id": "bD4mv3yiw9bQ"
      }
    },
    {
      "cell_type": "code",
      "source": [
        "# Cleaning Raw tweets\n",
        "def clean_text(text):\n",
        "\n",
        "    #remove emails\n",
        "    text = ' '.join([i for i in text.split() if '@' not in i])\n",
        "\n",
        "    #remove web address\n",
        "    text = re.sub('http[s]?://\\S+', '', text)\n",
        "\n",
        "    #remove punctuations\n",
        "    text = re.sub(r'[^\\w\\s]', '', text)\n",
        "\n",
        "    #Filter to allow only alphabets\n",
        "    text = re.sub(r'[^a-zA-Z0-9\\']', ' ', text)\n",
        "\n",
        "    #Remove Unicode characters\n",
        "    text = re.sub(r'[^\\x00-\\x7F]+', '', text)\n",
        "\n",
        "    #remove double spaces\n",
        "    text = re.sub('\\s+', ' ', text)\n",
        "\n",
        "    return text"
      ],
      "metadata": {
        "id": "wJQRQiifOF6k"
      },
      "execution_count": null,
      "outputs": []
    },
    {
      "cell_type": "code",
      "source": [],
      "metadata": {
        "id": "aPX3B0PLxDmg"
      },
      "execution_count": null,
      "outputs": []
    },
    {
      "cell_type": "markdown",
      "source": [
        "### 4. Preprocess your text dataset to be compatible to BERT model. Set MAX_LEN to 128 [20 marks]."
      ],
      "metadata": {
        "id": "mEUX0oe1OhDM"
      }
    },
    {
      "cell_type": "markdown",
      "source": [
        "##### the preprocesing step is to tokenize your dataset such that it is fit to input BERT"
      ],
      "metadata": {
        "id": "2gUxR9jCxI_P"
      }
    },
    {
      "cell_type": "code",
      "source": [],
      "metadata": {
        "id": "l_ZTwHmmxTmH"
      },
      "execution_count": null,
      "outputs": []
    },
    {
      "cell_type": "markdown",
      "source": [
        "### 5. Split the dataset to the training set and the testing set with the ratio of 90% for the training dataset and 10% for the testing dataset [5 marks]."
      ],
      "metadata": {
        "id": "9uoRAtviUG7j"
      }
    },
    {
      "cell_type": "markdown",
      "source": [
        "##### Both data and attention mask need to be split"
      ],
      "metadata": {
        "id": "jTLVQRh_xUxg"
      }
    },
    {
      "cell_type": "code",
      "source": [],
      "metadata": {
        "id": "m57OFKsCxd0o"
      },
      "execution_count": null,
      "outputs": []
    },
    {
      "cell_type": "markdown",
      "source": [
        "### 6. Create the dataloader of the datasets with the batch size of 32 [5 marks]."
      ],
      "metadata": {
        "id": "pptk7y2DUkf1"
      }
    },
    {
      "cell_type": "markdown",
      "source": [
        "##### The dataloader can be created in the tensorflow"
      ],
      "metadata": {
        "id": "gfoLWA7Dximo"
      }
    },
    {
      "cell_type": "code",
      "source": [],
      "metadata": {
        "id": "TbGOzdBUxnGY"
      },
      "execution_count": null,
      "outputs": []
    },
    {
      "cell_type": "markdown",
      "source": [
        "### 7. Create the BERT model from the hugging face library [5 marks]."
      ],
      "metadata": {
        "id": "0_G2v2MzU7Gc"
      }
    },
    {
      "cell_type": "markdown",
      "source": [
        "##### You can craft your BERT manually or directly use a pre-developed model for text classification"
      ],
      "metadata": {
        "id": "Wo5HcC4DxqSo"
      }
    },
    {
      "cell_type": "code",
      "source": [],
      "metadata": {
        "id": "Nb_7HsxPxpeY"
      },
      "execution_count": null,
      "outputs": []
    },
    {
      "cell_type": "markdown",
      "source": [
        "### 8. Prepare the training environments for your BERT model with the cross entropy loss function and the ADAM optimizer [10 marks]"
      ],
      "metadata": {
        "id": "zsIzLzjpVM0b"
      }
    },
    {
      "cell_type": "markdown",
      "source": [
        "##### prepare your loss and learning rate"
      ],
      "metadata": {
        "id": "vEg5z0Ncx33A"
      }
    },
    {
      "cell_type": "code",
      "source": [],
      "metadata": {
        "id": "GdF_VzLHyH_5"
      },
      "execution_count": null,
      "outputs": []
    },
    {
      "cell_type": "markdown",
      "source": [
        "### 9. Train your BERT model with 2 epochs [20 marks]."
      ],
      "metadata": {
        "id": "N83rzrEWVo0T"
      }
    },
    {
      "cell_type": "markdown",
      "source": [
        "##### you need to create your training loop here"
      ],
      "metadata": {
        "id": "j-rxrGmKyJPY"
      }
    },
    {
      "cell_type": "code",
      "source": [],
      "metadata": {
        "id": "jf4iNDXTyNXB"
      },
      "execution_count": null,
      "outputs": []
    },
    {
      "cell_type": "markdown",
      "source": [
        "### 10. Evaluate your model with the testing dataset and calculate accuracy, precision, recall and F1 score [20 marks]."
      ],
      "metadata": {
        "id": "P9HjRffXWHZ7"
      }
    },
    {
      "cell_type": "markdown",
      "source": [
        "##### evaluation need to be done inside the training loop"
      ],
      "metadata": {
        "id": "2Dav-7itySzo"
      }
    },
    {
      "cell_type": "code",
      "source": [],
      "metadata": {
        "id": "Q7D5opcKyX84"
      },
      "execution_count": null,
      "outputs": []
    },
    {
      "cell_type": "markdown",
      "source": [
        "In the second part of the assignment, you are suppossed to perform sentiment analysis on the smile-annotations-final.csv. It differs from the first part of the assignment where this dataset features a multi-class classification problem."
      ],
      "metadata": {
        "id": "wbT91XqPH-5Z"
      }
    },
    {
      "cell_type": "markdown",
      "source": [
        "### 11. Load the dataset and show the first few rows of the dataset [5 marks]."
      ],
      "metadata": {
        "id": "zPj5qW78Ie4h"
      }
    },
    {
      "cell_type": "markdown",
      "source": [
        "##### you need to use Pandas to load the dataset"
      ],
      "metadata": {
        "id": "CemTStVdyge4"
      }
    },
    {
      "cell_type": "code",
      "source": [],
      "metadata": {
        "id": "p-IMAqPlylBA"
      },
      "execution_count": null,
      "outputs": []
    },
    {
      "cell_type": "markdown",
      "source": [
        "### 12. Identify the number of classes in the dataset [5 marks]."
      ],
      "metadata": {
        "id": "vzHHjQ4eI-Mi"
      }
    },
    {
      "cell_type": "markdown",
      "source": [
        "##### you can identify the unique category in your dataset"
      ],
      "metadata": {
        "id": "5AiwYHTyymKQ"
      }
    },
    {
      "cell_type": "code",
      "source": [],
      "metadata": {
        "id": "JB1nh5YlyvfQ"
      },
      "execution_count": null,
      "outputs": []
    },
    {
      "cell_type": "markdown",
      "source": [
        "### 13. Form a six-classes classification problem that consists of happy, not-relevant, angry, surprise, sad and disgust [5 marks]."
      ],
      "metadata": {
        "id": "Gug4iBXHJP0q"
      }
    },
    {
      "cell_type": "markdown",
      "source": [
        "##### Remove irrelevant classes"
      ],
      "metadata": {
        "id": "-0Cca6-4ywpp"
      }
    },
    {
      "cell_type": "code",
      "source": [],
      "metadata": {
        "id": "TH8YYD-cyz8o"
      },
      "execution_count": null,
      "outputs": []
    },
    {
      "cell_type": "markdown",
      "source": [
        "### 14. Replace text labels with numeric labels [5 marks]."
      ],
      "metadata": {
        "id": "1TlZR_WdJ9ry"
      }
    },
    {
      "cell_type": "code",
      "source": [],
      "metadata": {
        "id": "RecllBABy6Qo"
      },
      "execution_count": null,
      "outputs": []
    },
    {
      "cell_type": "markdown",
      "source": [
        "### 15. Remove irrelevant characters in the text and show the first few rows of the clean dataset [5 marks]."
      ],
      "metadata": {
        "id": "Y1JlGsvIKJCR"
      }
    },
    {
      "cell_type": "markdown",
      "source": [
        "##### you can use the same function given in the first part of the assignment"
      ],
      "metadata": {
        "id": "EG8DiTjPy7-g"
      }
    },
    {
      "cell_type": "code",
      "source": [],
      "metadata": {
        "id": "eSQnQL6pzEAJ"
      },
      "execution_count": null,
      "outputs": []
    },
    {
      "cell_type": "markdown",
      "source": [
        "### 16. Preprocess your text dataset to be compatible to BERT model. Set MAX_LEN to 128 [20 marks]."
      ],
      "metadata": {
        "id": "iqM9lRHQKkiq"
      }
    },
    {
      "cell_type": "markdown",
      "source": [
        "##### tokenize your dataset such that it is ready for BERT to use"
      ],
      "metadata": {
        "id": "cORAgE5l1jRg"
      }
    },
    {
      "cell_type": "code",
      "source": [],
      "metadata": {
        "id": "POeLG71w1vP4"
      },
      "execution_count": null,
      "outputs": []
    },
    {
      "cell_type": "markdown",
      "source": [
        "### 17. Split the dataset to the training set and the testing set with the ratio of 90% for the training dataset and 10% for the testing dataset [5 marks]."
      ],
      "metadata": {
        "id": "lV9cyQEmKrQq"
      }
    },
    {
      "cell_type": "markdown",
      "source": [
        "##### Do not forget the attention mask to be split"
      ],
      "metadata": {
        "id": "KRGI38-21wLo"
      }
    },
    {
      "cell_type": "code",
      "source": [],
      "metadata": {
        "id": "o-faDZqk128o"
      },
      "execution_count": null,
      "outputs": []
    },
    {
      "cell_type": "markdown",
      "source": [
        "### 18. Create the dataloader of the datasets with the batch size of 32 [5 marks]."
      ],
      "metadata": {
        "id": "qRygfyXlK82q"
      }
    },
    {
      "cell_type": "markdown",
      "source": [
        "##### Dataloader can be created in the tensorflow"
      ],
      "metadata": {
        "id": "mp5dDJzc14BQ"
      }
    },
    {
      "cell_type": "code",
      "source": [],
      "metadata": {
        "id": "LZK18EVS2Bbw"
      },
      "execution_count": null,
      "outputs": []
    },
    {
      "cell_type": "markdown",
      "source": [
        "### 19. Prepare the training environments for your BERT model with the cross entropy loss function and the ADAM optimizer [10 marks]"
      ],
      "metadata": {
        "id": "TB1xInzcLLDy"
      }
    },
    {
      "cell_type": "markdown",
      "source": [
        "##### Prepare the loss function, the learning rate and the optimizer"
      ],
      "metadata": {
        "id": "GZWxLwVt2CZI"
      }
    },
    {
      "cell_type": "code",
      "source": [],
      "metadata": {
        "id": "u2G7hWV62LTI"
      },
      "execution_count": null,
      "outputs": []
    },
    {
      "cell_type": "markdown",
      "source": [
        "### 20. Train your BERT model with 2 epochs [20 marks]."
      ],
      "metadata": {
        "id": "iG6hEvyaLvKy"
      }
    },
    {
      "cell_type": "markdown",
      "source": [
        "##### Create your training loop"
      ],
      "metadata": {
        "id": "OAu4XPh22MX6"
      }
    },
    {
      "cell_type": "code",
      "source": [],
      "metadata": {
        "id": "l7eiKO1D2P0Q"
      },
      "execution_count": null,
      "outputs": []
    },
    {
      "cell_type": "markdown",
      "source": [
        "### 21. Evaluate your model with the testing dataset and calculate accuracy [20 marks]."
      ],
      "metadata": {
        "id": "0LkvlRarL7HB"
      }
    },
    {
      "cell_type": "markdown",
      "source": [
        "##### Evaluation needs to be done inside the training loop"
      ],
      "metadata": {
        "id": "h8t_PBkk2Qkp"
      }
    },
    {
      "cell_type": "code",
      "source": [],
      "metadata": {
        "id": "FrCzUa_H2WEQ"
      },
      "execution_count": null,
      "outputs": []
    }
  ]
}