{
  "cells": [
    {
      "cell_type": "markdown",
      "id": "f310687b",
      "metadata": {
        "id": "f310687b"
      },
      "source": [
        "# Assignment 1 2024"
      ]
    },
    {
      "cell_type": "markdown",
      "id": "504094ef",
      "metadata": {
        "id": "504094ef"
      },
      "source": [
        "In this assignment, you will be asked to implement popular CNN architectures to solve a popular image classification problem, Fashion MNIST. Your codes must be written in Tensorflow and be executable under Google colab. You will need a GPU access where Google colab gives you such access free of charge. Your report can be written in the same document as your codes in .ipynb file. Every step carries a particular mark indicated in every instruction. Full mark is 140 points."
      ]
    },
    {
      "cell_type": "markdown",
      "id": "78e76d44",
      "metadata": {
        "id": "78e76d44"
      },
      "source": [
        "### 1. Import relevant libraries that you need [10 marks]"
      ]
    },
    {
      "cell_type": "markdown",
      "source": [
        "##### list all the libraries that you need here"
      ],
      "metadata": {
        "id": "I8RaXhfxRlVd"
      },
      "id": "I8RaXhfxRlVd"
    },
    {
      "cell_type": "code",
      "source": [
        "import numpy as np\n",
        "import pandas as pd\n",
        "import matplotlib.pyplot as plt\n",
        "import seaborn as sns\n",
        "from tensorflow.keras.datasets import fashion_mnist\n",
        "from tensorflow.keras.models import Sequential\n",
        "from tensorflow.keras.utils import to_categorical\n",
        "from tensorflow.keras.layers import Dense, Dropout, Activation\n",
        "from tensorflow.keras.applications import ResNet50, VGG16\n",
        "from skimage.transform import resize"
      ],
      "metadata": {
        "id": "7kXuhETuRxzr"
      },
      "id": "7kXuhETuRxzr",
      "execution_count": 1,
      "outputs": []
    },
    {
      "cell_type": "markdown",
      "source": [],
      "metadata": {
        "id": "9narw_SqpWy2"
      },
      "id": "9narw_SqpWy2"
    },
    {
      "cell_type": "markdown",
      "id": "d6595e6f",
      "metadata": {
        "id": "d6595e6f"
      },
      "source": [
        "### 2. Download the fashion MNIST dataset [5 marks]"
      ]
    },
    {
      "cell_type": "markdown",
      "source": [
        "##### The fashion MNIST dataset is available in the tensorflow. You can download it directly."
      ],
      "metadata": {
        "id": "_Qwi89XWR1nj"
      },
      "id": "_Qwi89XWR1nj"
    },
    {
      "cell_type": "code",
      "source": [
        "(X_train, y_train), (X_test, y_test) = fashion_mnist.load_data()\n"
      ],
      "metadata": {
        "id": "rv3ye1v8SALa",
        "outputId": "351f723f-314c-4812-e21d-1115b5f81649",
        "colab": {
          "base_uri": "https://localhost:8080/"
        }
      },
      "id": "rv3ye1v8SALa",
      "execution_count": 2,
      "outputs": [
        {
          "output_type": "stream",
          "name": "stdout",
          "text": [
            "Downloading data from https://storage.googleapis.com/tensorflow/tf-keras-datasets/train-labels-idx1-ubyte.gz\n",
            "\u001b[1m29515/29515\u001b[0m \u001b[32m━━━━━━━━━━━━━━━━━━━━\u001b[0m\u001b[37m\u001b[0m \u001b[1m0s\u001b[0m 0us/step\n",
            "Downloading data from https://storage.googleapis.com/tensorflow/tf-keras-datasets/train-images-idx3-ubyte.gz\n",
            "\u001b[1m26421880/26421880\u001b[0m \u001b[32m━━━━━━━━━━━━━━━━━━━━\u001b[0m\u001b[37m\u001b[0m \u001b[1m2s\u001b[0m 0us/step\n",
            "Downloading data from https://storage.googleapis.com/tensorflow/tf-keras-datasets/t10k-labels-idx1-ubyte.gz\n",
            "\u001b[1m5148/5148\u001b[0m \u001b[32m━━━━━━━━━━━━━━━━━━━━\u001b[0m\u001b[37m\u001b[0m \u001b[1m0s\u001b[0m 0us/step\n",
            "Downloading data from https://storage.googleapis.com/tensorflow/tf-keras-datasets/t10k-images-idx3-ubyte.gz\n",
            "\u001b[1m4422102/4422102\u001b[0m \u001b[32m━━━━━━━━━━━━━━━━━━━━\u001b[0m\u001b[37m\u001b[0m \u001b[1m1s\u001b[0m 0us/step\n"
          ]
        }
      ]
    },
    {
      "cell_type": "markdown",
      "id": "1c957fef",
      "metadata": {
        "id": "1c957fef"
      },
      "source": [
        "### 3. Visualize the dataset that has been downloaded. Yo need to plot the dataset in a batch and present them as a batch [10 marks]"
      ]
    },
    {
      "cell_type": "markdown",
      "source": [
        "##### Present your plot as a grid of images."
      ],
      "metadata": {
        "id": "7KUMaOTbVSbT"
      },
      "id": "7KUMaOTbVSbT"
    },
    {
      "cell_type": "code",
      "source": [
        "# Function to display a batch of images\n",
        "def plot_batch(images, labels):\n",
        "    plt.figure(figsize=(10, 10))\n",
        "    for i in range(25):\n",
        "        plt.subplot(5, 5, i+1)\n",
        "        plt.xticks([])\n",
        "        plt.yticks([])\n",
        "        plt.grid(False)\n",
        "        plt.imshow(images[i], cmap=plt.cm.binary)\n",
        "    plt.tight_layout()\n",
        "    plt.show()\n",
        "\n",
        "# Visualize the first 25 images from the training set\n",
        "plot_batch(X_train[:25], y_train[:25])"
      ],
      "metadata": {
        "id": "dmp1hLLsVauh",
        "outputId": "4e95d3f2-050e-4e88-aff8-fb5dd06b5801",
        "colab": {
          "base_uri": "https://localhost:8080/",
          "height": 1000
        }
      },
      "id": "dmp1hLLsVauh",
      "execution_count": 3,
      "outputs": [
        {
          "output_type": "display_data",
          "data": {
            "text/plain": [
              "<Figure size 1000x1000 with 25 Axes>"
            ],
            "image/png": "[encoded data removed]"
          },
          "metadata": {}
        }
      ]
    },
    {
      "cell_type": "markdown",
      "source": [
        "### 4. Normalize the dataset into the range of $[0,1]$ [5 marks]\n"
      ],
      "metadata": {
        "id": "__1G9QAh6Egf"
      },
      "id": "__1G9QAh6Egf"
    },
    {
      "cell_type": "markdown",
      "source": [
        "##### Normalization can be done by dividing with the maximum element."
      ],
      "metadata": {
        "id": "RxHG9eFdVfCL"
      },
      "id": "RxHG9eFdVfCL"
    },
    {
      "cell_type": "code",
      "source": [
        "X_train = X_train / 255\n",
        "X_test = X_test / 255\n",
        "\n",
        "X_train.shape, X_train.min(), X_train.max()"
      ],
      "metadata": {
        "id": "BAohjBuSVuYK",
        "outputId": "039858d6-cf19-4942-90d9-db4eab6da0c5",
        "colab": {
          "base_uri": "https://localhost:8080/"
        }
      },
      "id": "BAohjBuSVuYK",
      "execution_count": 4,
      "outputs": [
        {
          "output_type": "execute_result",
          "data": {
            "text/plain": [
              "((60000, 28, 28), 0.0, 1.0)"
            ]
          },
          "metadata": {},
          "execution_count": 4
        }
      ]
    },
    {
      "cell_type": "markdown",
      "source": [
        "### 5. Create two hidden layer neural networks where each hidden layer comprises 128 nodes [10 marks]"
      ],
      "metadata": {
        "id": "h2RujpsB6qiP"
      },
      "id": "h2RujpsB6qiP"
    },
    {
      "cell_type": "markdown",
      "source": [
        "##### The neural network can be built and customized from the keras library."
      ],
      "metadata": {
        "id": "gJOg9GmqVvpq"
      },
      "id": "gJOg9GmqVvpq"
    },
    {
      "cell_type": "code",
      "source": [
        "X_train = X_train.reshape(60000,784)\n",
        "X_test = X_test.reshape(10000,784)\n",
        "Y_train = to_categorical(y_train, 10)\n",
        "Y_test = to_categorical(y_test, 10)\n",
        "\n",
        "\n",
        "model = Sequential()\n",
        "\n",
        "model.add(Dense(128, input_shape=(784,)))\n",
        "model.add(Activation('relu'))\n",
        "model.add(Dropout(0.2))\n",
        "  # Hidden layer 2\n",
        "model.add(Dense(128))\n",
        "model.add(Activation('relu'))\n",
        "#model.add(Dropout(0.2))\n",
        "  # Output layer\n",
        "model.add(Dense(10))\n",
        "model.add(Activation('softmax'))\n",
        "\n",
        "\n",
        "model.summary()"
      ],
      "metadata": {
        "id": "GGNeg7wzV8eT",
        "outputId": "c6dcd92d-48ca-4a8d-d19c-e09422c30f69",
        "colab": {
          "base_uri": "https://localhost:8080/",
          "height": 418
        }
      },
      "id": "GGNeg7wzV8eT",
      "execution_count": 5,
      "outputs": [
        {
          "output_type": "stream",
          "name": "stderr",
          "text": [
            "/usr/local/lib/python3.10/dist-packages/keras/src/layers/core/dense.py:87: UserWarning: Do not pass an `input_shape`/`input_dim` argument to a layer. When using Sequential models, prefer using an `Input(shape)` object as the first layer in the model instead.\n",
            "  super().__init__(activity_regularizer=activity_regularizer, **kwargs)\n"
          ]
        },
        {
          "output_type": "display_data",
          "data": {
            "text/plain": [
              "\u001b[1mModel: \"sequential\"\u001b[0m\n"
            ],
            "text/html": [
              "<pre style=\"white-space:pre;overflow-x:auto;line-height:normal;font-family:Menlo,'DejaVu Sans Mono',consolas,'Courier New',monospace\"><span style=\"font-weight: bold\">Model: \"sequential\"</span>\n",
              "</pre>\n"
            ]
          },
          "metadata": {}
        },
        {
          "output_type": "display_data",
          "data": {
            "text/plain": [
              "┏━━━━━━━━━━━━━━━━━━━━━━━━━━━━━━━━━━━━━━┳━━━━━━━━━━━━━━━━━━━━━━━━━━━━━┳━━━━━━━━━━━━━━━━━┓\n",
              "┃\u001b[1m \u001b[0m\u001b[1mLayer (type)                        \u001b[0m\u001b[1m \u001b[0m┃\u001b[1m \u001b[0m\u001b[1mOutput Shape               \u001b[0m\u001b[1m \u001b[0m┃\u001b[1m \u001b[0m\u001b[1m        Param #\u001b[0m\u001b[1m \u001b[0m┃\n",
              "┡━━━━━━━━━━━━━━━━━━━━━━━━━━━━━━━━━━━━━━╇━━━━━━━━━━━━━━━━━━━━━━━━━━━━━╇━━━━━━━━━━━━━━━━━┩\n",
              "│ dense (\u001b[38;5;33mDense\u001b[0m)                        │ (\u001b[38;5;45mNone\u001b[0m, \u001b[38;5;34m128\u001b[0m)                 │         \u001b[38;5;34m100,480\u001b[0m │\n",
              "├──────────────────────────────────────┼─────────────────────────────┼─────────────────┤\n",
              "│ activation (\u001b[38;5;33mActivation\u001b[0m)              │ (\u001b[38;5;45mNone\u001b[0m, \u001b[38;5;34m128\u001b[0m)                 │               \u001b[38;5;34m0\u001b[0m │\n",
              "├──────────────────────────────────────┼─────────────────────────────┼─────────────────┤\n",
              "│ dropout (\u001b[38;5;33mDropout\u001b[0m)                    │ (\u001b[38;5;45mNone\u001b[0m, \u001b[38;5;34m128\u001b[0m)                 │               \u001b[38;5;34m0\u001b[0m │\n",
              "├──────────────────────────────────────┼─────────────────────────────┼─────────────────┤\n",
              "│ dense_1 (\u001b[38;5;33mDense\u001b[0m)                      │ (\u001b[38;5;45mNone\u001b[0m, \u001b[38;5;34m128\u001b[0m)                 │          \u001b[38;5;34m16,512\u001b[0m │\n",
              "├──────────────────────────────────────┼─────────────────────────────┼─────────────────┤\n",
              "│ activation_1 (\u001b[38;5;33mActivation\u001b[0m)            │ (\u001b[38;5;45mNone\u001b[0m, \u001b[38;5;34m128\u001b[0m)                 │               \u001b[38;5;34m0\u001b[0m │\n",
              "├──────────────────────────────────────┼─────────────────────────────┼─────────────────┤\n",
              "│ dense_2 (\u001b[38;5;33mDense\u001b[0m)                      │ (\u001b[38;5;45mNone\u001b[0m, \u001b[38;5;34m10\u001b[0m)                  │           \u001b[38;5;34m1,290\u001b[0m │\n",
              "├──────────────────────────────────────┼─────────────────────────────┼─────────────────┤\n",
              "│ activation_2 (\u001b[38;5;33mActivation\u001b[0m)            │ (\u001b[38;5;45mNone\u001b[0m, \u001b[38;5;34m10\u001b[0m)                  │               \u001b[38;5;34m0\u001b[0m │\n",
              "└──────────────────────────────────────┴─────────────────────────────┴─────────────────┘\n"
            ],
            "text/html": [
              "<pre style=\"white-space:pre;overflow-x:auto;line-height:normal;font-family:Menlo,'DejaVu Sans Mono',consolas,'Courier New',monospace\">┏━━━━━━━━━━━━━━━━━━━━━━━━━━━━━━━━━━━━━━┳━━━━━━━━━━━━━━━━━━━━━━━━━━━━━┳━━━━━━━━━━━━━━━━━┓\n",
              "┃<span style=\"font-weight: bold\"> Layer (type)                         </span>┃<span style=\"font-weight: bold\"> Output Shape                </span>┃<span style=\"font-weight: bold\">         Param # </span>┃\n",
              "┡━━━━━━━━━━━━━━━━━━━━━━━━━━━━━━━━━━━━━━╇━━━━━━━━━━━━━━━━━━━━━━━━━━━━━╇━━━━━━━━━━━━━━━━━┩\n",
              "│ dense (<span style=\"color: #0087ff; text-decoration-color: #0087ff\">Dense</span>)                        │ (<span style=\"color: #00d7ff; text-decoration-color: #00d7ff\">None</span>, <span style=\"color: #00af00; text-decoration-color: #00af00\">128</span>)                 │         <span style=\"color: #00af00; text-decoration-color: #00af00\">100,480</span> │\n",
              "├──────────────────────────────────────┼─────────────────────────────┼─────────────────┤\n",
              "│ activation (<span style=\"color: #0087ff; text-decoration-color: #0087ff\">Activation</span>)              │ (<span style=\"color: #00d7ff; text-decoration-color: #00d7ff\">None</span>, <span style=\"color: #00af00; text-decoration-color: #00af00\">128</span>)                 │               <span style=\"color: #00af00; text-decoration-color: #00af00\">0</span> │\n",
              "├──────────────────────────────────────┼─────────────────────────────┼─────────────────┤\n",
              "│ dropout (<span style=\"color: #0087ff; text-decoration-color: #0087ff\">Dropout</span>)                    │ (<span style=\"color: #00d7ff; text-decoration-color: #00d7ff\">None</span>, <span style=\"color: #00af00; text-decoration-color: #00af00\">128</span>)                 │               <span style=\"color: #00af00; text-decoration-color: #00af00\">0</span> │\n",
              "├──────────────────────────────────────┼─────────────────────────────┼─────────────────┤\n",
              "│ dense_1 (<span style=\"color: #0087ff; text-decoration-color: #0087ff\">Dense</span>)                      │ (<span style=\"color: #00d7ff; text-decoration-color: #00d7ff\">None</span>, <span style=\"color: #00af00; text-decoration-color: #00af00\">128</span>)                 │          <span style=\"color: #00af00; text-decoration-color: #00af00\">16,512</span> │\n",
              "├──────────────────────────────────────┼─────────────────────────────┼─────────────────┤\n",
              "│ activation_1 (<span style=\"color: #0087ff; text-decoration-color: #0087ff\">Activation</span>)            │ (<span style=\"color: #00d7ff; text-decoration-color: #00d7ff\">None</span>, <span style=\"color: #00af00; text-decoration-color: #00af00\">128</span>)                 │               <span style=\"color: #00af00; text-decoration-color: #00af00\">0</span> │\n",
              "├──────────────────────────────────────┼─────────────────────────────┼─────────────────┤\n",
              "│ dense_2 (<span style=\"color: #0087ff; text-decoration-color: #0087ff\">Dense</span>)                      │ (<span style=\"color: #00d7ff; text-decoration-color: #00d7ff\">None</span>, <span style=\"color: #00af00; text-decoration-color: #00af00\">10</span>)                  │           <span style=\"color: #00af00; text-decoration-color: #00af00\">1,290</span> │\n",
              "├──────────────────────────────────────┼─────────────────────────────┼─────────────────┤\n",
              "│ activation_2 (<span style=\"color: #0087ff; text-decoration-color: #0087ff\">Activation</span>)            │ (<span style=\"color: #00d7ff; text-decoration-color: #00d7ff\">None</span>, <span style=\"color: #00af00; text-decoration-color: #00af00\">10</span>)                  │               <span style=\"color: #00af00; text-decoration-color: #00af00\">0</span> │\n",
              "└──────────────────────────────────────┴─────────────────────────────┴─────────────────┘\n",
              "</pre>\n"
            ]
          },
          "metadata": {}
        },
        {
          "output_type": "display_data",
          "data": {
            "text/plain": [
              "\u001b[1m Total params: \u001b[0m\u001b[38;5;34m118,282\u001b[0m (462.04 KB)\n"
            ],
            "text/html": [
              "<pre style=\"white-space:pre;overflow-x:auto;line-height:normal;font-family:Menlo,'DejaVu Sans Mono',consolas,'Courier New',monospace\"><span style=\"font-weight: bold\"> Total params: </span><span style=\"color: #00af00; text-decoration-color: #00af00\">118,282</span> (462.04 KB)\n",
              "</pre>\n"
            ]
          },
          "metadata": {}
        },
        {
          "output_type": "display_data",
          "data": {
            "text/plain": [
              "\u001b[1m Trainable params: \u001b[0m\u001b[38;5;34m118,282\u001b[0m (462.04 KB)\n"
            ],
            "text/html": [
              "<pre style=\"white-space:pre;overflow-x:auto;line-height:normal;font-family:Menlo,'DejaVu Sans Mono',consolas,'Courier New',monospace\"><span style=\"font-weight: bold\"> Trainable params: </span><span style=\"color: #00af00; text-decoration-color: #00af00\">118,282</span> (462.04 KB)\n",
              "</pre>\n"
            ]
          },
          "metadata": {}
        },
        {
          "output_type": "display_data",
          "data": {
            "text/plain": [
              "\u001b[1m Non-trainable params: \u001b[0m\u001b[38;5;34m0\u001b[0m (0.00 B)\n"
            ],
            "text/html": [
              "<pre style=\"white-space:pre;overflow-x:auto;line-height:normal;font-family:Menlo,'DejaVu Sans Mono',consolas,'Courier New',monospace\"><span style=\"font-weight: bold\"> Non-trainable params: </span><span style=\"color: #00af00; text-decoration-color: #00af00\">0</span> (0.00 B)\n",
              "</pre>\n"
            ]
          },
          "metadata": {}
        }
      ]
    },
    {
      "cell_type": "markdown",
      "source": [
        "### 6. Create the training environments to train the neural network created in the previous cell. Use cross entropy loss function and ADAM optimizer [5 marks]."
      ],
      "metadata": {
        "id": "IVLqyTN87UHH"
      },
      "id": "IVLqyTN87UHH"
    },
    {
      "cell_type": "markdown",
      "source": [
        "##### The training environment can be created from model.compile() instruction."
      ],
      "metadata": {
        "id": "vi4tLj33V_fq"
      },
      "id": "vi4tLj33V_fq"
    },
    {
      "cell_type": "code",
      "source": [
        "model.compile(loss='categorical_crossentropy', optimizer='adam', metrics=['accuracy'])"
      ],
      "metadata": {
        "id": "WLW1bDlIWKOr"
      },
      "id": "WLW1bDlIWKOr",
      "execution_count": 6,
      "outputs": []
    },
    {
      "cell_type": "markdown",
      "source": [
        "### 7. Train the network for 10 epochs with the batch size of 64 and validation split of 0.2. Training is performed under GPU [10 marks]."
      ],
      "metadata": {
        "id": "BcTNr81j8Ev4"
      },
      "id": "BcTNr81j8Ev4"
    },
    {
      "cell_type": "markdown",
      "source": [
        "##### The network training process can be done using model.fit() instruction."
      ],
      "metadata": {
        "id": "8Hfy24xIWOSK"
      },
      "id": "8Hfy24xIWOSK"
    },
    {
      "cell_type": "code",
      "source": [
        "history = model.fit(X_train, Y_train, batch_size=64, epochs=10, validation_split=0.2, verbose=1)"
      ],
      "metadata": {
        "id": "Aqbx5KjGWU9S",
        "outputId": "7c6e9dba-180e-447d-ba83-62eba88b1051",
        "colab": {
          "base_uri": "https://localhost:8080/"
        }
      },
      "id": "Aqbx5KjGWU9S",
      "execution_count": 7,
      "outputs": [
        {
          "output_type": "stream",
          "name": "stdout",
          "text": [
            "Epoch 1/10\n",
            "\u001b[1m750/750\u001b[0m \u001b[32m━━━━━━━━━━━━━━━━━━━━\u001b[0m\u001b[37m\u001b[0m \u001b[1m6s\u001b[0m 4ms/step - accuracy: 0.7315 - loss: 0.7666 - val_accuracy: 0.8385 - val_loss: 0.4233\n",
            "Epoch 2/10\n",
            "\u001b[1m750/750\u001b[0m \u001b[32m━━━━━━━━━━━━━━━━━━━━\u001b[0m\u001b[37m\u001b[0m \u001b[1m1s\u001b[0m 2ms/step - accuracy: 0.8429 - loss: 0.4229 - val_accuracy: 0.8601 - val_loss: 0.3843\n",
            "Epoch 3/10\n",
            "\u001b[1m750/750\u001b[0m \u001b[32m━━━━━━━━━━━━━━━━━━━━\u001b[0m\u001b[37m\u001b[0m \u001b[1m1s\u001b[0m 2ms/step - accuracy: 0.8615 - loss: 0.3817 - val_accuracy: 0.8678 - val_loss: 0.3612\n",
            "Epoch 4/10\n",
            "\u001b[1m750/750\u001b[0m \u001b[32m━━━━━━━━━━━━━━━━━━━━\u001b[0m\u001b[37m\u001b[0m \u001b[1m1s\u001b[0m 2ms/step - accuracy: 0.8717 - loss: 0.3519 - val_accuracy: 0.8736 - val_loss: 0.3510\n",
            "Epoch 5/10\n",
            "\u001b[1m750/750\u001b[0m \u001b[32m━━━━━━━━━━━━━━━━━━━━\u001b[0m\u001b[37m\u001b[0m \u001b[1m2s\u001b[0m 2ms/step - accuracy: 0.8764 - loss: 0.3350 - val_accuracy: 0.8798 - val_loss: 0.3377\n",
            "Epoch 6/10\n",
            "\u001b[1m750/750\u001b[0m \u001b[32m━━━━━━━━━━━━━━━━━━━━\u001b[0m\u001b[37m\u001b[0m \u001b[1m1s\u001b[0m 2ms/step - accuracy: 0.8759 - loss: 0.3325 - val_accuracy: 0.8806 - val_loss: 0.3287\n",
            "Epoch 7/10\n",
            "\u001b[1m750/750\u001b[0m \u001b[32m━━━━━━━━━━━━━━━━━━━━\u001b[0m\u001b[37m\u001b[0m \u001b[1m3s\u001b[0m 3ms/step - accuracy: 0.8851 - loss: 0.3074 - val_accuracy: 0.8789 - val_loss: 0.3278\n",
            "Epoch 8/10\n",
            "\u001b[1m750/750\u001b[0m \u001b[32m━━━━━━━━━━━━━━━━━━━━\u001b[0m\u001b[37m\u001b[0m \u001b[1m2s\u001b[0m 2ms/step - accuracy: 0.8868 - loss: 0.3056 - val_accuracy: 0.8835 - val_loss: 0.3220\n",
            "Epoch 9/10\n",
            "\u001b[1m750/750\u001b[0m \u001b[32m━━━━━━━━━━━━━━━━━━━━\u001b[0m\u001b[37m\u001b[0m \u001b[1m2s\u001b[0m 2ms/step - accuracy: 0.8898 - loss: 0.2919 - val_accuracy: 0.8850 - val_loss: 0.3129\n",
            "Epoch 10/10\n",
            "\u001b[1m750/750\u001b[0m \u001b[32m━━━━━━━━━━━━━━━━━━━━\u001b[0m\u001b[37m\u001b[0m \u001b[1m3s\u001b[0m 2ms/step - accuracy: 0.8903 - loss: 0.2881 - val_accuracy: 0.8811 - val_loss: 0.3199\n"
          ]
        }
      ]
    },
    {
      "cell_type": "markdown",
      "source": [
        "### 8. Evaluate the model on the testing dataset and calculate the prediction accuracy [5 marks]."
      ],
      "metadata": {
        "id": "uhQDJxnZ83GP"
      },
      "id": "uhQDJxnZ83GP"
    },
    {
      "cell_type": "markdown",
      "source": [
        "##### The evaluation can be done using model.evaluate() instruction."
      ],
      "metadata": {
        "id": "nAGVa0VsWdxS"
      },
      "id": "nAGVa0VsWdxS"
    },
    {
      "cell_type": "code",
      "source": [
        "model.evaluate(X_test, Y_test)"
      ],
      "metadata": {
        "id": "Aq9d9UKrWoax",
        "outputId": "26668006-8ff2-4b78-c666-71fead82836b",
        "colab": {
          "base_uri": "https://localhost:8080/"
        }
      },
      "id": "Aq9d9UKrWoax",
      "execution_count": 8,
      "outputs": [
        {
          "output_type": "stream",
          "name": "stdout",
          "text": [
            "\u001b[1m313/313\u001b[0m \u001b[32m━━━━━━━━━━━━━━━━━━━━\u001b[0m\u001b[37m\u001b[0m \u001b[1m1s\u001b[0m 4ms/step - accuracy: 0.8742 - loss: 0.3508\n"
          ]
        },
        {
          "output_type": "execute_result",
          "data": {
            "text/plain": [
              "[0.3508938252925873, 0.8755999803543091]"
            ]
          },
          "metadata": {},
          "execution_count": 8
        }
      ]
    },
    {
      "cell_type": "markdown",
      "source": [
        "### 9. Rescale the dataset to the size of $32×32$ [10 marks].\n",
        "\n",
        "\n"
      ],
      "metadata": {
        "id": "o0Q5EN8B9jSH"
      },
      "id": "o0Q5EN8B9jSH"
    },
    {
      "cell_type": "markdown",
      "source": [
        "##### One way to rescale the image is through skimage."
      ],
      "metadata": {
        "id": "CHLJGQUCWn1p"
      },
      "id": "CHLJGQUCWn1p"
    },
    {
      "cell_type": "code",
      "source": [
        "X_train_resized = np.array([resize(image, (32, 32)) for image in X_train])\n",
        "X_test_resized = np.array([resize(image, (32, 32)) for image in X_test])"
      ],
      "metadata": {
        "id": "d3HgUKpZWwMR"
      },
      "id": "d3HgUKpZWwMR",
      "execution_count": 9,
      "outputs": []
    },
    {
      "cell_type": "markdown",
      "id": "1f490aae",
      "metadata": {
        "id": "1f490aae"
      },
      "source": [
        "### 10. Create ResNet50 Structure (https://arxiv.org/abs/1512.03385) [10 marks].\n",
        "\n",
        "\n"
      ]
    },
    {
      "cell_type": "markdown",
      "source": [
        "##### The resNet structure is readily available in the tensorflow library."
      ],
      "metadata": {
        "id": "2NdIAfcSW1oO"
      },
      "id": "2NdIAfcSW1oO"
    },
    {
      "cell_type": "code",
      "source": [
        "model_resnet = ResNet50(\n",
        "    include_top=True,\n",
        "    input_shape=(32, 32, 1),\n",
        "    weights=None,\n",
        "    classes=10\n",
        ")"
      ],
      "metadata": {
        "id": "8a92jGXzWy3q"
      },
      "id": "8a92jGXzWy3q",
      "execution_count": 10,
      "outputs": []
    },
    {
      "cell_type": "markdown",
      "id": "adbdcdde",
      "metadata": {
        "id": "adbdcdde"
      },
      "source": [
        "### 11. Create the training environment to train the ResNet50 based on the ResNet structure in the previous step. Use the cross entropy loss function and the ADAM optimizer [5 marks]."
      ]
    },
    {
      "cell_type": "markdown",
      "source": [
        "##### As with question 6, the training environments can be set by model.compile() instruction."
      ],
      "metadata": {
        "id": "wgkPvkpQZA2p"
      },
      "id": "wgkPvkpQZA2p"
    },
    {
      "cell_type": "code",
      "source": [
        "model_resnet.compile(loss='categorical_crossentropy', optimizer='adam', metrics=['accuracy'])"
      ],
      "metadata": {
        "id": "qgogfe7DZRoK"
      },
      "id": "qgogfe7DZRoK",
      "execution_count": 11,
      "outputs": []
    },
    {
      "cell_type": "markdown",
      "id": "5af2caf3",
      "metadata": {
        "id": "5af2caf3"
      },
      "source": [
        "### 12. Train the ResNet50 for 10 epochs with the batch size of 64 and validation split of 0.2. Training is performed under GPU [10 marks]."
      ]
    },
    {
      "cell_type": "markdown",
      "source": [
        "##### As with question 7, the training process can be executed by model.fit() instruction."
      ],
      "metadata": {
        "id": "wNFL06pvZSbB"
      },
      "id": "wNFL06pvZSbB"
    },
    {
      "cell_type": "code",
      "source": [
        "history_resnet = model_resnet.fit(X_train_resized, Y_train, batch_size=64, epochs=10, validation_split=0.2, verbose=1)"
      ],
      "metadata": {
        "id": "Ng_8uc9dZeKB",
        "outputId": "239d707f-387f-4c27-df43-0073c6a79a01",
        "colab": {
          "base_uri": "https://localhost:8080/"
        }
      },
      "id": "Ng_8uc9dZeKB",
      "execution_count": 12,
      "outputs": [
        {
          "output_type": "stream",
          "name": "stdout",
          "text": [
            "Epoch 1/10\n",
            "\u001b[1m750/750\u001b[0m \u001b[32m━━━━━━━━━━━━━━━━━━━━\u001b[0m\u001b[37m\u001b[0m \u001b[1m90s\u001b[0m 43ms/step - accuracy: 0.6183 - loss: 1.2343 - val_accuracy: 0.4893 - val_loss: 1.6028\n",
            "Epoch 2/10\n",
            "\u001b[1m750/750\u001b[0m \u001b[32m━━━━━━━━━━━━━━━━━━━━\u001b[0m\u001b[37m\u001b[0m \u001b[1m55s\u001b[0m 37ms/step - accuracy: 0.6696 - loss: 1.0154 - val_accuracy: 0.6271 - val_loss: 1.2083\n",
            "Epoch 3/10\n",
            "\u001b[1m750/750\u001b[0m \u001b[32m━━━━━━━━━━━━━━━━━━━━\u001b[0m\u001b[37m\u001b[0m \u001b[1m42s\u001b[0m 38ms/step - accuracy: 0.7162 - loss: 0.8379 - val_accuracy: 0.4468 - val_loss: 1.7321\n",
            "Epoch 4/10\n",
            "\u001b[1m750/750\u001b[0m \u001b[32m━━━━━━━━━━━━━━━━━━━━\u001b[0m\u001b[37m\u001b[0m \u001b[1m42s\u001b[0m 39ms/step - accuracy: 0.7451 - loss: 0.7447 - val_accuracy: 0.7035 - val_loss: 0.8353\n",
            "Epoch 5/10\n",
            "\u001b[1m750/750\u001b[0m \u001b[32m━━━━━━━━━━━━━━━━━━━━\u001b[0m\u001b[37m\u001b[0m \u001b[1m39s\u001b[0m 37ms/step - accuracy: 0.7583 - loss: 0.7194 - val_accuracy: 0.5838 - val_loss: 1.1279\n",
            "Epoch 6/10\n",
            "\u001b[1m750/750\u001b[0m \u001b[32m━━━━━━━━━━━━━━━━━━━━\u001b[0m\u001b[37m\u001b[0m \u001b[1m27s\u001b[0m 37ms/step - accuracy: 0.7727 - loss: 0.6550 - val_accuracy: 0.7266 - val_loss: 0.7731\n",
            "Epoch 7/10\n",
            "\u001b[1m750/750\u001b[0m \u001b[32m━━━━━━━━━━━━━━━━━━━━\u001b[0m\u001b[37m\u001b[0m \u001b[1m41s\u001b[0m 36ms/step - accuracy: 0.7789 - loss: 0.6317 - val_accuracy: 0.5946 - val_loss: 1.2324\n",
            "Epoch 8/10\n",
            "\u001b[1m750/750\u001b[0m \u001b[32m━━━━━━━━━━━━━━━━━━━━\u001b[0m\u001b[37m\u001b[0m \u001b[1m42s\u001b[0m 38ms/step - accuracy: 0.7391 - loss: 0.8182 - val_accuracy: 0.6199 - val_loss: 1.1296\n",
            "Epoch 9/10\n",
            "\u001b[1m750/750\u001b[0m \u001b[32m━━━━━━━━━━━━━━━━━━━━\u001b[0m\u001b[37m\u001b[0m \u001b[1m41s\u001b[0m 38ms/step - accuracy: 0.7362 - loss: 0.7940 - val_accuracy: 0.6607 - val_loss: 1.3317\n",
            "Epoch 10/10\n",
            "\u001b[1m750/750\u001b[0m \u001b[32m━━━━━━━━━━━━━━━━━━━━\u001b[0m\u001b[37m\u001b[0m \u001b[1m41s\u001b[0m 38ms/step - accuracy: 0.7653 - loss: 0.6685 - val_accuracy: 0.6859 - val_loss: 0.8422\n"
          ]
        }
      ]
    },
    {
      "cell_type": "markdown",
      "source": [
        "### 13. Evaluate the model on the testing dataset and calculate the prediction accuracy [5 marks].\n",
        "\n"
      ],
      "metadata": {
        "id": "0iNSEwOPuFrv"
      },
      "id": "0iNSEwOPuFrv"
    },
    {
      "cell_type": "markdown",
      "source": [
        "As with question 8, the evaluation can be done via model.evaluate() instruction."
      ],
      "metadata": {
        "id": "5ZY4Qf_lZfdR"
      },
      "id": "5ZY4Qf_lZfdR"
    },
    {
      "cell_type": "code",
      "source": [
        "model_resnet.evaluate(X_test_resized, Y_test)"
      ],
      "metadata": {
        "id": "7nRP91C5ZnSS",
        "outputId": "aff8fcc3-1b06-4997-c976-a5414c728eb0",
        "colab": {
          "base_uri": "https://localhost:8080/"
        }
      },
      "id": "7nRP91C5ZnSS",
      "execution_count": 14,
      "outputs": [
        {
          "output_type": "stream",
          "name": "stdout",
          "text": [
            "\u001b[1m313/313\u001b[0m \u001b[32m━━━━━━━━━━━━━━━━━━━━\u001b[0m\u001b[37m\u001b[0m \u001b[1m4s\u001b[0m 14ms/step - accuracy: 0.6849 - loss: 0.8670\n"
          ]
        },
        {
          "output_type": "execute_result",
          "data": {
            "text/plain": [
              "[0.8714652061462402, 0.6833000183105469]"
            ]
          },
          "metadata": {},
          "execution_count": 14
        }
      ]
    },
    {
      "cell_type": "markdown",
      "source": [
        "### 14. Change your model to VGG16 (https://arxiv.org/abs/1409.1556v6) and repeat step 11 and 12 [20 marks]."
      ],
      "metadata": {
        "id": "p9u0-fiJvOkA"
      },
      "id": "p9u0-fiJvOkA"
    },
    {
      "cell_type": "markdown",
      "source": [
        "##### VGG16 architecture is readily available from the tensorflow library."
      ],
      "metadata": {
        "id": "wVqvpZ0lZocK"
      },
      "id": "wVqvpZ0lZocK"
    },
    {
      "cell_type": "code",
      "source": [
        "X_train_resized_vgg16 = X_train_resized.reshape(-1, 32, 32, 1)\n",
        "\n",
        "model_vgg16 = VGG16(\n",
        "    include_top=True,\n",
        "    input_shape=(32, 32, 1),\n",
        "    weights=None,\n",
        "    classes=10\n",
        ")\n",
        "model_vgg16.compile(loss='categorical_crossentropy', optimizer='adam', metrics=['accuracy'])\n",
        "history_resnet = model_vgg16.fit(X_train_resized, Y_train, batch_size=64, epochs=10, validation_split=0.2, verbose=1)"
      ],
      "metadata": {
        "id": "0610v16sZvkB",
        "colab": {
          "base_uri": "https://localhost:8080/"
        },
        "outputId": "7dcdd38b-221e-4602-9b2b-4b1a9ed5cf73"
      },
      "id": "0610v16sZvkB",
      "execution_count": null,
      "outputs": [
        {
          "output_type": "stream",
          "name": "stdout",
          "text": [
            "Epoch 1/10\n",
            "\u001b[1m495/750\u001b[0m \u001b[32m━━━━━━━━━━━━━\u001b[0m\u001b[37m━━━━━━━\u001b[0m \u001b[1m12s\u001b[0m 50ms/step - accuracy: 0.0974 - loss: 2.3032"
          ]
        }
      ]
    },
    {
      "cell_type": "markdown",
      "source": [
        "### 15. Evaluate the trained VGG16 model on the testing dataset [5 marks].\n",
        "\n"
      ],
      "metadata": {
        "id": "hcPRpZqrw3Hf"
      },
      "id": "hcPRpZqrw3Hf"
    },
    {
      "cell_type": "markdown",
      "source": [
        "##### Evaluation can be done in the same way as above. You need to pay attention to the testing dataset to be used for evaluation."
      ],
      "metadata": {
        "id": "elWVwRYcZzCC"
      },
      "id": "elWVwRYcZzCC"
    },
    {
      "cell_type": "code",
      "source": [
        "X_test_resized_vgg16 = X_test_resized.reshape(-1, 32, 32, 1)\n",
        "model_vgg16.evaluate(X_test_resized, Y_test)"
      ],
      "metadata": {
        "colab": {
          "base_uri": "https://localhost:8080/"
        },
        "id": "3P1ZW1ksdCbW",
        "outputId": "08a64dbb-87cb-4cb7-9c38-05fe13be8a3b"
      },
      "id": "3P1ZW1ksdCbW",
      "execution_count": 18,
      "outputs": [
        {
          "output_type": "stream",
          "name": "stdout",
          "text": [
            "\u001b[1m313/313\u001b[0m \u001b[32m━━━━━━━━━━━━━━━━━━━━\u001b[0m\u001b[37m\u001b[0m \u001b[1m4s\u001b[0m 12ms/step - accuracy: 0.0998 - loss: 2.3027\n"
          ]
        },
        {
          "output_type": "execute_result",
          "data": {
            "text/plain": [
              "[2.302647352218628, 0.10000000149011612]"
            ]
          },
          "metadata": {},
          "execution_count": 18
        }
      ]
    },
    {
      "cell_type": "markdown",
      "source": [
        "### 16. Explain why the VGG16 does not perform as good as other two architectures [15 marks]. Your answer is written in this document."
      ],
      "metadata": {
        "id": "WvAe4kqTCc1P"
      },
      "id": "WvAe4kqTCc1P"
    },
    {
      "cell_type": "code",
      "source": [
        "#### Write your answer here"
      ],
      "metadata": {
        "id": "NKxx5QvraKMR"
      },
      "id": "NKxx5QvraKMR",
      "execution_count": null,
      "outputs": []
    }
  ],
  "metadata": {
    "kernelspec": {
      "display_name": "Python 3",
      "name": "python3"
    },
    "language_info": {
      "codemirror_mode": {
        "name": "ipython",
        "version": 3
      },
      "file_extension": ".py",
      "mimetype": "text/x-python",
      "name": "python",
      "nbconvert_exporter": "python",
      "pygments_lexer": "ipython3",
      "version": "3.9.12"
    },
    "colab": {
      "provenance": [],
      "gpuType": "T4"
    },
    "accelerator": "GPU"
  },
  "nbformat": 4,
  "nbformat_minor": 5
}